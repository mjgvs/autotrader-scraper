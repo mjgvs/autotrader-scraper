{
 "cells": [
  {
   "cell_type": "markdown",
   "id": "8642201a-269c-464e-a537-197dde6902eb",
   "metadata": {},
   "source": [
    "# autotrader scraper\n",
    "\n",
    "In this notebook, i'll be testing out the code provided in this blog post: https://www.shedloadofcode.com/blog/building-an-autotrader-scraper-with-python-to-search-for-multiple-makes-and-models\n",
    "\n",
    "*make sure you are on the `webscraper` virtual environment!`"
   ]
  },
  {
   "cell_type": "code",
   "execution_count": null,
   "id": "25e80cce-9232-471f-81ca-578699b6060e",
   "metadata": {},
   "outputs": [],
   "source": [
    "# !python -m pip install numpy pandas requests cloudscraper bs4 xlsxwriter openpyxl "
   ]
  },
  {
   "cell_type": "code",
   "execution_count": null,
   "id": "61c45c1b-806f-4559-b71d-92c01fab7f4f",
   "metadata": {},
   "outputs": [],
   "source": [
    "# !python autotrader-searcher.py"
   ]
  },
  {
   "cell_type": "code",
   "execution_count": 1,
   "id": "c4cb7360-7b55-42ef-88b5-62bf6cad14cc",
   "metadata": {},
   "outputs": [],
   "source": [
    "from autotrader_scraper import get_cars\n",
    "import pandas as pd"
   ]
  },
  {
   "cell_type": "code",
   "execution_count": 2,
   "id": "5c0f6a38-76c3-4b7e-a4da-6e229e43a20b",
   "metadata": {},
   "outputs": [],
   "source": [
    "criteria = {\n",
    "    \"postcode\": \"LS6 3DT\", \n",
    "    \"min_year\": 2016,\n",
    "    \"max_year\": 2023,\n",
    "    \"radius\": 1000,\n",
    "    \"min_price\": 0,\n",
    "    \"max_price\": 100000,\n",
    "    \"fuel\": \"Hybrid – Petrol/Electric\",\n",
    "    \"transmission\": \"Automatic\",\n",
    "    \"max_mileage\": 1000000,\n",
    "    \"max_attempts_per_page\": 1,\n",
    "    \"verbose\": True\n",
    "}"
   ]
  },
  {
   "cell_type": "code",
   "execution_count": 3,
   "id": "f1e97c2d-0c87-47f7-afab-03dab4d748d2",
   "metadata": {
    "tags": []
   },
   "outputs": [
    {
     "name": "stdout",
     "output_type": "stream",
     "text": [
      "Year:  2016,      Page:  1,      Response:  <Response [200]>\n",
      "Year:  2016,      Page:  2,      Response:  <Response [200]>\n",
      "Year:  2016,      Page:  3,      Response:  <Response [200]>\n",
      "Found total 12 results for year 2016 across 2 pages\n",
      "Moving on to year 2017\n",
      "---------------------------------\n",
      "Year:  2017,      Page:  1,      Response:  <Response [200]>\n",
      "Year:  2017,      Page:  2,      Response:  <Response [200]>\n",
      "Year:  2017,      Page:  3,      Response:  <Response [200]>\n",
      "Year:  2017,      Page:  4,      Response:  <Response [200]>\n",
      "Year:  2017,      Page:  5,      Response:  <Response [200]>\n",
      "Year:  2017,      Page:  6,      Response:  <Response [200]>\n",
      "Year:  2017,      Page:  7,      Response:  <Response [200]>\n",
      "Year:  2017,      Page:  8,      Response:  <Response [200]>\n",
      "Year:  2017,      Page:  9,      Response:  <Response [200]>\n",
      "Year:  2017,      Page:  10,      Response:  <Response [200]>\n",
      "Year:  2017,      Page:  11,      Response:  <Response [200]>\n",
      "Found total 100 results for year 2017 across 10 pages\n",
      "Moving on to year 2018\n",
      "---------------------------------\n",
      "Year:  2018,      Page:  1,      Response:  <Response [200]>\n",
      "Year:  2018,      Page:  2,      Response:  <Response [200]>\n",
      "Year:  2018,      Page:  3,      Response:  <Response [200]>\n",
      "Year:  2018,      Page:  4,      Response:  <Response [200]>\n",
      "Year:  2018,      Page:  5,      Response:  <Response [200]>\n",
      "Year:  2018,      Page:  6,      Response:  <Response [200]>\n",
      "Year:  2018,      Page:  7,      Response:  <Response [200]>\n",
      "Year:  2018,      Page:  8,      Response:  <Response [200]>\n",
      "Year:  2018,      Page:  9,      Response:  <Response [200]>\n",
      "Year:  2018,      Page:  10,      Response:  <Response [200]>\n",
      "Year:  2018,      Page:  11,      Response:  <Response [200]>\n",
      "Year:  2018,      Page:  12,      Response:  <Response [200]>\n",
      "Year:  2018,      Page:  13,      Response:  <Response [200]>\n",
      "Year:  2018,      Page:  14,      Response:  <Response [200]>\n",
      "Year:  2018,      Page:  15,      Response:  <Response [200]>\n",
      "Year:  2018,      Page:  16,      Response:  <Response [200]>\n",
      "Year:  2018,      Page:  17,      Response:  <Response [200]>\n",
      "Year:  2018,      Page:  18,      Response:  <Response [200]>\n",
      "Found total 163 results for year 2018 across 17 pages\n",
      "Moving on to year 2019\n",
      "---------------------------------\n",
      "Year:  2019,      Page:  1,      Response:  <Response [200]>\n",
      "Year:  2019,      Page:  2,      Response:  <Response [200]>\n",
      "Year:  2019,      Page:  3,      Response:  <Response [200]>\n",
      "Year:  2019,      Page:  4,      Response:  <Response [200]>\n",
      "Year:  2019,      Page:  5,      Response:  <Response [200]>\n",
      "Year:  2019,      Page:  6,      Response:  <Response [200]>\n",
      "Year:  2019,      Page:  7,      Response:  <Response [200]>\n",
      "Year:  2019,      Page:  8,      Response:  <Response [200]>\n",
      "Year:  2019,      Page:  9,      Response:  <Response [200]>\n",
      "Year:  2019,      Page:  10,      Response:  <Response [200]>\n",
      "Year:  2019,      Page:  11,      Response:  <Response [200]>\n",
      "Year:  2019,      Page:  12,      Response:  <Response [200]>\n",
      "Year:  2019,      Page:  13,      Response:  <Response [200]>\n",
      "Year:  2019,      Page:  14,      Response:  <Response [200]>\n",
      "Year:  2019,      Page:  15,      Response:  <Response [200]>\n",
      "Year:  2019,      Page:  16,      Response:  <Response [200]>\n",
      "Year:  2019,      Page:  17,      Response:  <Response [200]>\n",
      "Year:  2019,      Page:  18,      Response:  <Response [200]>\n",
      "Year:  2019,      Page:  19,      Response:  <Response [200]>\n",
      "Year:  2019,      Page:  20,      Response:  <Response [200]>\n",
      "Year:  2019,      Page:  21,      Response:  <Response [200]>\n",
      "Year:  2019,      Page:  22,      Response:  <Response [200]>\n",
      "Year:  2019,      Page:  23,      Response:  <Response [200]>\n",
      "Year:  2019,      Page:  24,      Response:  <Response [200]>\n",
      "Year:  2019,      Page:  25,      Response:  <Response [200]>\n",
      "Year:  2019,      Page:  26,      Response:  <Response [200]>\n",
      "Year:  2019,      Page:  27,      Response:  <Response [200]>\n",
      "Year:  2019,      Page:  28,      Response:  <Response [200]>\n",
      "Year:  2019,      Page:  29,      Response:  <Response [200]>\n",
      "Year:  2019,      Page:  30,      Response:  <Response [200]>\n",
      "Year:  2019,      Page:  31,      Response:  <Response [200]>\n",
      "Year:  2019,      Page:  32,      Response:  <Response [200]>\n",
      "Year:  2019,      Page:  33,      Response:  <Response [200]>\n",
      "Year:  2019,      Page:  34,      Response:  <Response [200]>\n",
      "Year:  2019,      Page:  35,      Response:  <Response [200]>\n",
      "Found total 337 results for year 2019 across 34 pages\n",
      "Moving on to year 2020\n",
      "---------------------------------\n",
      "Year:  2020,      Page:  1,      Response:  <Response [200]>\n",
      "Year:  2020,      Page:  2,      Response:  <Response [200]>\n",
      "Year:  2020,      Page:  3,      Response:  <Response [200]>\n",
      "Year:  2020,      Page:  4,      Response:  <Response [200]>\n",
      "Year:  2020,      Page:  5,      Response:  <Response [200]>\n",
      "Year:  2020,      Page:  6,      Response:  <Response [200]>\n",
      "Year:  2020,      Page:  7,      Response:  <Response [200]>\n",
      "Year:  2020,      Page:  8,      Response:  <Response [200]>\n",
      "Year:  2020,      Page:  9,      Response:  <Response [200]>\n",
      "Year:  2020,      Page:  10,      Response:  <Response [200]>\n",
      "Year:  2020,      Page:  11,      Response:  <Response [200]>\n",
      "Year:  2020,      Page:  12,      Response:  <Response [200]>\n",
      "Year:  2020,      Page:  13,      Response:  <Response [200]>\n",
      "Year:  2020,      Page:  14,      Response:  <Response [200]>\n",
      "Year:  2020,      Page:  15,      Response:  <Response [200]>\n",
      "Year:  2020,      Page:  16,      Response:  <Response [200]>\n",
      "Year:  2020,      Page:  17,      Response:  <Response [200]>\n",
      "Year:  2020,      Page:  18,      Response:  <Response [200]>\n",
      "Year:  2020,      Page:  19,      Response:  <Response [200]>\n",
      "Year:  2020,      Page:  20,      Response:  <Response [200]>\n",
      "Year:  2020,      Page:  21,      Response:  <Response [200]>\n",
      "Year:  2020,      Page:  22,      Response:  <Response [200]>\n",
      "Year:  2020,      Page:  23,      Response:  <Response [200]>\n",
      "Year:  2020,      Page:  24,      Response:  <Response [200]>\n",
      "Year:  2020,      Page:  25,      Response:  <Response [200]>\n",
      "Year:  2020,      Page:  26,      Response:  <Response [200]>\n",
      "Year:  2020,      Page:  27,      Response:  <Response [200]>\n",
      "Found total 259 results for year 2020 across 26 pages\n",
      "Moving on to year 2021\n",
      "---------------------------------\n",
      "Year:  2021,      Page:  1,      Response:  <Response [200]>\n",
      "Year:  2021,      Page:  2,      Response:  <Response [200]>\n",
      "Year:  2021,      Page:  3,      Response:  <Response [200]>\n",
      "Year:  2021,      Page:  4,      Response:  <Response [200]>\n",
      "Year:  2021,      Page:  5,      Response:  <Response [200]>\n",
      "Year:  2021,      Page:  6,      Response:  <Response [200]>\n",
      "Year:  2021,      Page:  7,      Response:  <Response [200]>\n",
      "Year:  2021,      Page:  8,      Response:  <Response [200]>\n",
      "Year:  2021,      Page:  9,      Response:  <Response [200]>\n",
      "Year:  2021,      Page:  10,      Response:  <Response [200]>\n",
      "Year:  2021,      Page:  11,      Response:  <Response [200]>\n",
      "Year:  2021,      Page:  12,      Response:  <Response [200]>\n",
      "Year:  2021,      Page:  13,      Response:  <Response [200]>\n",
      "Year:  2021,      Page:  14,      Response:  <Response [200]>\n",
      "Year:  2021,      Page:  15,      Response:  <Response [200]>\n",
      "Year:  2021,      Page:  16,      Response:  <Response [200]>\n",
      "Year:  2021,      Page:  17,      Response:  <Response [200]>\n",
      "Year:  2021,      Page:  18,      Response:  <Response [200]>\n",
      "Found total 163 results for year 2021 across 17 pages\n",
      "Moving on to year 2022\n",
      "---------------------------------\n",
      "Year:  2022,      Page:  1,      Response:  <Response [200]>\n",
      "Year:  2022,      Page:  2,      Response:  <Response [200]>\n",
      "Year:  2022,      Page:  3,      Response:  <Response [200]>\n",
      "Year:  2022,      Page:  4,      Response:  <Response [200]>\n",
      "Year:  2022,      Page:  5,      Response:  <Response [200]>\n",
      "Year:  2022,      Page:  6,      Response:  <Response [200]>\n",
      "Year:  2022,      Page:  7,      Response:  <Response [200]>\n",
      "Year:  2022,      Page:  8,      Response:  <Response [200]>\n",
      "Year:  2022,      Page:  9,      Response:  <Response [200]>\n",
      "Found total 76 results for year 2022 across 8 pages\n",
      "Moving on to year 2023\n",
      "---------------------------------\n",
      "Year:  2023,      Page:  1,      Response:  <Response [200]>\n",
      "Year:  2023,      Page:  2,      Response:  <Response [200]>\n",
      "Found total 4 results for year 2023 across 1 pages\n",
      "Ioniq search done.\n"
     ]
    }
   ],
   "source": [
    "ioniq = get_cars(\n",
    "    make = \"Hyundai\",\n",
    "    model = \"Ioniq\",\n",
    "    postcode = criteria[\"postcode\"],\n",
    "    radius = criteria[\"radius\"],\n",
    "    min_year = criteria[\"min_year\"],\n",
    "    max_year = criteria[\"max_year\"],\n",
    "    include_writeoff = \"exclude\",\n",
    "    max_attempts_per_page = criteria[\"max_attempts_per_page\"],\n",
    "    verbose = criteria[\"verbose\"]\n",
    ")\n",
    "\n",
    "print(\"Ioniq search done.\")"
   ]
  },
  {
   "cell_type": "code",
   "execution_count": null,
   "id": "3203b9da-2649-413c-a32f-ce6118128a0f",
   "metadata": {},
   "outputs": [],
   "source": [
    "ioniq[10]"
   ]
  },
  {
   "cell_type": "code",
   "execution_count": null,
   "id": "362378a2-4712-4f3f-bd30-c450543e5b6d",
   "metadata": {},
   "outputs": [],
   "source": [
    "results = (\n",
    "    corolla \n",
    ")"
   ]
  },
  {
   "cell_type": "code",
   "execution_count": null,
   "id": "32fe1506-6b8b-490e-8a28-cf5418a2bda1",
   "metadata": {},
   "outputs": [],
   "source": [
    "results = (\n",
    "    prius + \n",
    "    corolla + \n",
    "    ioniq +\n",
    "    ioniq_5 +\n",
    "    civic +\n",
    "    niro +\n",
    "    EV6 +\n",
    "    XC40 +\n",
    "    astra +\n",
    "    ID4 +\n",
    "    ID5    \n",
    ")"
   ]
  },
  {
   "cell_type": "code",
   "execution_count": null,
   "id": "8325174f-e97e-457a-8e82-f26aac7a6345",
   "metadata": {},
   "outputs": [],
   "source": [
    "print(f\"Found {len(results)} total results.\")\n",
    "\n",
    "df = pd.DataFrame.from_records(results)\n",
    "\n",
    "df[\"price\"] = df[\"price\"] \\\n",
    "    .str.replace(\"£\", \"\") \\\n",
    "    .str.replace(\",\", \"\") \\\n",
    "    .astype(int)\n",
    "\n",
    "df[\"distance\"] = df[\"seller\"].str.extract(r'(\\d+ mile)', expand=False)\n",
    "df[\"distance\"] = df[\"distance\"].str.replace(\" mile\", \"\")\n",
    "df[\"distance\"] = pd.to_numeric(df[\"distance\"], errors=\"coerce\").astype(\"Int64\")\n",
    "\n",
    "df[\"year\"] = df[\"year\"].str.replace(r\"\\s(\\(\\d\\d reg\\))\", \"\", regex=True)\n",
    "df[\"year\"] = pd.to_numeric(df[\"year\"], errors=\"coerce\").astype(\"Int64\")\n",
    "\n",
    "print(f\"{len(df)} cars met the criteria. Saving to 'autotrader-df.csv'\")\n",
    "\n",
    "df2 = df.sort_values(by=\"distance\")\n",
    "df2.to_csv(\"autotrader-corolla-df.csv\")"
   ]
  },
  {
   "cell_type": "code",
   "execution_count": null,
   "id": "a88f6cde-8f04-4d07-8800-ba24e536ce4a",
   "metadata": {},
   "outputs": [],
   "source": [
    "shortlist = df[\n",
    "  (df[\"price\"] >= criteria[\"min_price\"]) & \n",
    "  (df[\"price\"] <= criteria[\"max_price\"]) &\n",
    "  (df[\"fuel\"] == criteria[\"fuel\"]) &\n",
    "  (df[\"mileage\"] <= criteria[\"max_mileage\"]) &\n",
    "  (df[\"transmission\"] == criteria[\"transmission\"]) &\n",
    "  (df[\"engine\"] != \"1.0L\") &\n",
    "  (df[\"engine\"] != \"1.2L\")\n",
    "]\n",
    "\n",
    "print(f\"{len(shortlist)} cars met the criteria. Saving to 'autotrader-shortlist.csv'\")\n",
    "\n",
    "shortlist = shortlist.sort_values(by=\"distance\")\n",
    "shortlist.to_csv(\"autotrader-shortlist.csv\")"
   ]
  },
  {
   "cell_type": "markdown",
   "id": "0371f71f-db0d-4404-8d8b-6873a8bb898f",
   "metadata": {},
   "source": [
    "# Manually adaptig the script to scrape additional info from the url"
   ]
  },
  {
   "cell_type": "code",
   "execution_count": null,
   "id": "9378f5b2-547e-472c-ab0d-7c1809e880bf",
   "metadata": {},
   "outputs": [],
   "source": [
    "import cloudscraper\n",
    "import requests\n",
    "from bs4 import BeautifulSoup\n",
    "url = 'https://www.autotrader.co.uk/car-details/202303165299047'\n",
    "# url = 'https://www.autotrader.co.uk/car-search?journey=YOU_MAY_ALSO_LIKE_JOURNEY&advertising-location=at_cars&fuel-type=Electric&include-delivery-option=on&make=Hyundai&model=IONIQ&postcode=LS6%203DT&sort=price-asc&year-from=2020&year-to=2020&flrfc=1#202302164339789'\n",
    "\n",
    "url = 'https://www.autotrader.co.uk/car-details/202303165299047'\n",
    "scraper = cloudscraper.create_scraper()\n",
    "response = scraper.get(url)\n",
    "\n",
    "article = response.content"
   ]
  },
  {
   "cell_type": "code",
   "execution_count": null,
   "id": "93f9fff5-237b-4c2a-8f73-fc53d088582a",
   "metadata": {
    "tags": []
   },
   "outputs": [],
   "source": [
    "article"
   ]
  },
  {
   "cell_type": "code",
   "execution_count": null,
   "id": "9145a61f-be27-4211-a658-93b409e1cf14",
   "metadata": {},
   "outputs": [],
   "source": [
    "article_decode = response.content.decode('utf-8')"
   ]
  },
  {
   "cell_type": "code",
   "execution_count": null,
   "id": "251cfeae-3383-4545-99c9-c4c51d1f8288",
   "metadata": {
    "tags": []
   },
   "outputs": [],
   "source": [
    "article_decode"
   ]
  },
  {
   "cell_type": "code",
   "execution_count": null,
   "id": "ebbc402c-7bff-43a8-9809-b4d99dde0008",
   "metadata": {},
   "outputs": [],
   "source": [
    "import cloudscraper\n",
    "from bs4 import BeautifulSoup\n",
    "\n",
    "url = 'https://www.autotrader.co.uk/car-details/202303165299047'\n",
    "scraper = cloudscraper.create_scraper()\n",
    "response = scraper.get(url)\n",
    "html_content = response.content.decode('utf-8')\n",
    "\n",
    "soup = BeautifulSoup(html_content, 'html.parser')\n",
    "title_element = soup.find(\"h3\", {\"class\": \"product-card-details__title\"})\n",
    "\n",
    "if title_element:\n",
    "    title_text = title_element.get_text()\n",
    "    print(title_text)\n",
    "else:\n",
    "    print(\"Title element not found\")"
   ]
  },
  {
   "cell_type": "code",
   "execution_count": null,
   "id": "3875d604-a86a-4f2c-8028-e564639f6dc5",
   "metadata": {},
   "outputs": [],
   "source": [
    "soup"
   ]
  },
  {
   "cell_type": "code",
   "execution_count": null,
   "id": "258da5c6-37f8-4cf8-9781-b615a0a6cc99",
   "metadata": {},
   "outputs": [],
   "source": [
    "article_decode.find(\"h3\", {\"class\": \"product-card-details__title\"})"
   ]
  },
  {
   "cell_type": "code",
   "execution_count": null,
   "id": "433a962c-dbec-44d6-b3ce-09f09eaba05d",
   "metadata": {},
   "outputs": [],
   "source": [
    "article.find(\"h3\", {\"class\": \"product-card-details__title\"}).text.strip()   "
   ]
  },
  {
   "cell_type": "code",
   "execution_count": null,
   "id": "47f1e42a-3196-4cea-8195-9665e22aed44",
   "metadata": {},
   "outputs": [],
   "source": [
    "car = {}\n",
    "car[\"model\"] = make + \" \" + model\n",
    "car[\"name\"] = article.find(\"h3\", {\"class\": \"product-card-details__title\"}).text.strip()             \n",
    "car[\"link\"] = \"https://www.autotrader.co.uk\" + \\\n",
    "      article.find(\"a\", {\"class\": \"listing-fpa-link\"})[\"href\"][: article.find(\"a\", {\"class\": \"listing-fpa-link\"})[\"href\"] \\\n",
    "      .find(\"?\")]\n",
    "car[\"price\"] = article.find(\"div\", {\"class\": \"product-card-pricing__price\"}).text.strip()\n",
    "\n",
    "seller_info = article.find(\"ul\", {\"class\": \"product-card-seller-info__specs\"}).text.strip()\n",
    "car[\"seller\"] = \" \".join(seller_info.split())\n",
    "\n",
    "key_specs_bs_list = article.find(\"ul\", {\"class\": \"listing-key-specs\"}).find_all(\"li\")\n",
    "\n",
    "for key_spec_bs_li in key_specs_bs_list:\n",
    "\n",
    "    key_spec_bs = key_spec_bs_li.text\n",
    "\n",
    "    if any(keyword in key_spec_bs for keyword in keywords[\"mileage\"]):\n",
    "        car[\"mileage\"] = int(key_spec_bs[:key_spec_bs.find(\" miles\")].replace(\",\",\"\"))\n",
    "    elif any(keyword in key_spec_bs for keyword in keywords[\"BHP\"]):\n",
    "        car[\"BHP\"] = int(key_spec_bs[:key_spec_bs.find(\"BHP\")])\n",
    "    elif any(keyword in key_spec_bs for keyword in keywords[\"transmission\"]):\n",
    "        car[\"transmission\"] = key_spec_bs\n",
    "    elif any(keyword in key_spec_bs for keyword in keywords[\"fuel\"]):\n",
    "        car[\"fuel\"] = key_spec_bs\n",
    "    elif any(keyword in key_spec_bs for keyword in keywords[\"owners\"]):\n",
    "        car[\"owners\"] = int(key_spec_bs[:key_spec_bs.find(\" owners\")])\n",
    "    elif any(keyword in key_spec_bs for keyword in keywords[\"body\"]):\n",
    "        car[\"body\"] = key_spec_bs\n",
    "    elif any(keyword in key_spec_bs for keyword in keywords[\"ULEZ\"]):\n",
    "        car[\"ULEZ\"] = key_spec_bs\n",
    "    elif any(keyword in key_spec_bs for keyword in keywords[\"year\"]):\n",
    "        car[\"year\"] = key_spec_bs\n",
    "    elif key_spec_bs[1] == \".\" and key_spec_bs[3] == \"L\":\n",
    "        car[\"engine\"] = key_spec_bs"
   ]
  }
 ],
 "metadata": {
  "kernelspec": {
   "display_name": "Python 3 (ipykernel)",
   "language": "python",
   "name": "python3"
  },
  "language_info": {
   "codemirror_mode": {
    "name": "ipython",
    "version": 3
   },
   "file_extension": ".py",
   "mimetype": "text/x-python",
   "name": "python",
   "nbconvert_exporter": "python",
   "pygments_lexer": "ipython3",
   "version": "3.10.11"
  }
 },
 "nbformat": 4,
 "nbformat_minor": 5
}
